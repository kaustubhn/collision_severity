{
 "cells": [
  {
   "cell_type": "markdown",
   "metadata": {},
   "source": [
    "# Prediction of Accident Security and Pattern Recognition\n",
    "\n",
    "**Problem Definition:**\n",
    "To model the prediction of severity of an accident based on factors that are included in such an event.\n",
    "\n",
    "**Taks Included in current notebook:**\n",
    "* Loading of data.\n",
    "* Preprocessing.\n",
    "* Visualizations.\n",
    "\n",
    "**Important Observations of this analysis:**\n",
    "* A very small subset of conditions result in most no. of accidents.\n",
    "* Narrow roads contribute to a staggering ~70% of accidents.\n",
    "* As the week progresses saturday being the 1st day of the week, the no. of accidents also increase peaking on friday.\n",
    "\n",
    "Continue reading to have a detailed analysis of the observations."
   ]
  },
  {
   "cell_type": "markdown",
   "metadata": {},
   "source": [
    "#### Loading of data"
   ]
  },
  {
   "cell_type": "code",
   "execution_count": 1,
   "metadata": {
    "collapsed": true
   },
   "outputs": [],
   "source": [
    "# Import the required packages\n",
    "\n",
    "import pandas as pd\n",
    "import seaborn as sns\n",
    "import matplotlib.pyplot as plt\n",
    "\n",
    "from sklearn import preprocessing\n",
    "\n",
    "%matplotlib inline"
   ]
  },
  {
   "cell_type": "markdown",
   "metadata": {},
   "source": [
    "### Read CSV file to DataFrame (df)\n",
    "\n",
    "The csv file is encoded in latin encoding format hence we will use the encoding parameter"
   ]
  },
  {
   "cell_type": "code",
   "execution_count": 2,
   "metadata": {
    "collapsed": true
   },
   "outputs": [],
   "source": [
    "df = pd.read_csv(\"data/train_PHD.csv\", encoding=\"ISO-8859-1\")"
   ]
  },
  {
   "cell_type": "markdown",
   "metadata": {},
   "source": [
    "Remove the spaces from the column names becomse easy to operate on columns"
   ]
  },
  {
   "cell_type": "code",
   "execution_count": 3,
   "metadata": {
    "collapsed": true
   },
   "outputs": [],
   "source": [
    "df.columns = [\"_\".join(x.split(\" \")) for x in df.columns]"
   ]
  },
  {
   "cell_type": "markdown",
   "metadata": {},
   "source": [
    "#### Preprocessing"
   ]
  },
  {
   "cell_type": "markdown",
   "metadata": {},
   "source": [
    "### Data Types Checks\n",
    "\n",
    "* Check if the data types infered by pandas read_csv are correct\n",
    "* Correct the data types to the expected formats\n",
    "\n",
    "    **Note**: Pandas stores **strings as object** datatype (So for strings we will see object as datatype)"
   ]
  },
  {
   "cell_type": "code",
   "execution_count": 4,
   "metadata": {},
   "outputs": [
    {
     "data": {
      "text/plain": [
       "Collision_Reference_No.                     int64\n",
       "Policing_Area                              object\n",
       "Collision_Severity                          int64\n",
       "Weekday_of_Collision                       object\n",
       "Day_of_Collision                            int64\n",
       "Month_of_Collision                          int64\n",
       "Hour_of_Collision_(24_hour)               float64\n",
       "Carriageway_Type                            int64\n",
       "Speed_Limit                                 int64\n",
       "Junction_Detail                           float64\n",
       "Junction_Control                          float64\n",
       "Pedestrian_Crossing__Human_Control       float64\n",
       "Pedestrian_Crossing__Physical_Control    float64\n",
       "Light_Conditions                            int64\n",
       "Weather_Conditions                          int64\n",
       "Road_Surface_Conditions                   float64\n",
       "Special_Conditions_at_Site                float64\n",
       "dtype: object"
      ]
     },
     "execution_count": 4,
     "metadata": {},
     "output_type": "execute_result"
    }
   ],
   "source": [
    "df.dtypes"
   ]
  },
  {
   "cell_type": "code",
   "execution_count": 5,
   "metadata": {
    "scrolled": false
   },
   "outputs": [
    {
     "data": {
      "text/html": [
       "<div>\n",
       "<style>\n",
       "    .dataframe thead tr:only-child th {\n",
       "        text-align: right;\n",
       "    }\n",
       "\n",
       "    .dataframe thead th {\n",
       "        text-align: left;\n",
       "    }\n",
       "\n",
       "    .dataframe tbody tr th {\n",
       "        vertical-align: top;\n",
       "    }\n",
       "</style>\n",
       "<table border=\"1\" class=\"dataframe\">\n",
       "  <thead>\n",
       "    <tr style=\"text-align: right;\">\n",
       "      <th></th>\n",
       "      <th>Collision_Reference_No.</th>\n",
       "      <th>Collision_Severity</th>\n",
       "      <th>Day_of_Collision</th>\n",
       "      <th>Month_of_Collision</th>\n",
       "      <th>Hour_of_Collision_(24_hour)</th>\n",
       "      <th>Carriageway_Type</th>\n",
       "      <th>Speed_Limit</th>\n",
       "      <th>Junction_Detail</th>\n",
       "      <th>Junction_Control</th>\n",
       "      <th>Pedestrian_Crossing__Human_Control</th>\n",
       "      <th>Pedestrian_Crossing__Physical_Control</th>\n",
       "      <th>Light_Conditions</th>\n",
       "      <th>Weather_Conditions</th>\n",
       "      <th>Road_Surface_Conditions</th>\n",
       "      <th>Special_Conditions_at_Site</th>\n",
       "    </tr>\n",
       "  </thead>\n",
       "  <tbody>\n",
       "    <tr>\n",
       "      <th>count</th>\n",
       "      <td>8562.000000</td>\n",
       "      <td>8562.000000</td>\n",
       "      <td>8562.000000</td>\n",
       "      <td>8562.000000</td>\n",
       "      <td>8307.000000</td>\n",
       "      <td>8562.000000</td>\n",
       "      <td>8562.000000</td>\n",
       "      <td>8317.000000</td>\n",
       "      <td>8286.000000</td>\n",
       "      <td>8326.000000</td>\n",
       "      <td>8294.000000</td>\n",
       "      <td>8562.000000</td>\n",
       "      <td>8562.000000</td>\n",
       "      <td>8321.000000</td>\n",
       "      <td>8331.000000</td>\n",
       "    </tr>\n",
       "    <tr>\n",
       "      <th>mean</th>\n",
       "      <td>6549.375380</td>\n",
       "      <td>2.878416</td>\n",
       "      <td>15.702056</td>\n",
       "      <td>6.641556</td>\n",
       "      <td>13.669556</td>\n",
       "      <td>12.223896</td>\n",
       "      <td>42.463794</td>\n",
       "      <td>6.381027</td>\n",
       "      <td>4.144581</td>\n",
       "      <td>1.008167</td>\n",
       "      <td>2.216301</td>\n",
       "      <td>3.236744</td>\n",
       "      <td>4.743635</td>\n",
       "      <td>1.657133</td>\n",
       "      <td>1.060737</td>\n",
       "    </tr>\n",
       "    <tr>\n",
       "      <th>std</th>\n",
       "      <td>3927.957169</td>\n",
       "      <td>0.364021</td>\n",
       "      <td>8.801282</td>\n",
       "      <td>3.525814</td>\n",
       "      <td>5.075447</td>\n",
       "      <td>2.706829</td>\n",
       "      <td>14.530785</td>\n",
       "      <td>5.017856</td>\n",
       "      <td>2.866551</td>\n",
       "      <td>0.118775</td>\n",
       "      <td>3.237456</td>\n",
       "      <td>2.070228</td>\n",
       "      <td>3.746747</td>\n",
       "      <td>1.453808</td>\n",
       "      <td>0.495025</td>\n",
       "    </tr>\n",
       "    <tr>\n",
       "      <th>min</th>\n",
       "      <td>1.000000</td>\n",
       "      <td>1.000000</td>\n",
       "      <td>1.000000</td>\n",
       "      <td>1.000000</td>\n",
       "      <td>0.000000</td>\n",
       "      <td>1.000000</td>\n",
       "      <td>10.000000</td>\n",
       "      <td>1.000000</td>\n",
       "      <td>1.000000</td>\n",
       "      <td>1.000000</td>\n",
       "      <td>1.000000</td>\n",
       "      <td>1.000000</td>\n",
       "      <td>1.000000</td>\n",
       "      <td>1.000000</td>\n",
       "      <td>1.000000</td>\n",
       "    </tr>\n",
       "    <tr>\n",
       "      <th>25%</th>\n",
       "      <td>3029.250000</td>\n",
       "      <td>3.000000</td>\n",
       "      <td>8.000000</td>\n",
       "      <td>4.000000</td>\n",
       "      <td>10.000000</td>\n",
       "      <td>13.000000</td>\n",
       "      <td>30.000000</td>\n",
       "      <td>1.000000</td>\n",
       "      <td>1.000000</td>\n",
       "      <td>1.000000</td>\n",
       "      <td>1.000000</td>\n",
       "      <td>1.000000</td>\n",
       "      <td>1.000000</td>\n",
       "      <td>1.000000</td>\n",
       "      <td>1.000000</td>\n",
       "    </tr>\n",
       "    <tr>\n",
       "      <th>50%</th>\n",
       "      <td>6076.500000</td>\n",
       "      <td>3.000000</td>\n",
       "      <td>16.000000</td>\n",
       "      <td>7.000000</td>\n",
       "      <td>14.000000</td>\n",
       "      <td>13.000000</td>\n",
       "      <td>30.000000</td>\n",
       "      <td>6.000000</td>\n",
       "      <td>4.000000</td>\n",
       "      <td>1.000000</td>\n",
       "      <td>1.000000</td>\n",
       "      <td>3.000000</td>\n",
       "      <td>3.000000</td>\n",
       "      <td>1.000000</td>\n",
       "      <td>1.000000</td>\n",
       "    </tr>\n",
       "    <tr>\n",
       "      <th>75%</th>\n",
       "      <td>10078.750000</td>\n",
       "      <td>3.000000</td>\n",
       "      <td>23.000000</td>\n",
       "      <td>10.000000</td>\n",
       "      <td>17.000000</td>\n",
       "      <td>13.000000</td>\n",
       "      <td>60.000000</td>\n",
       "      <td>12.000000</td>\n",
       "      <td>7.000000</td>\n",
       "      <td>1.000000</td>\n",
       "      <td>1.000000</td>\n",
       "      <td>5.000000</td>\n",
       "      <td>9.000000</td>\n",
       "      <td>2.000000</td>\n",
       "      <td>1.000000</td>\n",
       "    </tr>\n",
       "    <tr>\n",
       "      <th>max</th>\n",
       "      <td>13147.000000</td>\n",
       "      <td>3.000000</td>\n",
       "      <td>31.000000</td>\n",
       "      <td>12.000000</td>\n",
       "      <td>23.000000</td>\n",
       "      <td>14.000000</td>\n",
       "      <td>70.000000</td>\n",
       "      <td>12.000000</td>\n",
       "      <td>7.000000</td>\n",
       "      <td>3.000000</td>\n",
       "      <td>12.000000</td>\n",
       "      <td>7.000000</td>\n",
       "      <td>10.000000</td>\n",
       "      <td>10.000000</td>\n",
       "      <td>6.000000</td>\n",
       "    </tr>\n",
       "  </tbody>\n",
       "</table>\n",
       "</div>"
      ],
      "text/plain": [
       "       Collision_Reference_No.  Collision_Severity  Day_of_Collision  \\\n",
       "count              8562.000000         8562.000000       8562.000000   \n",
       "mean               6549.375380            2.878416         15.702056   \n",
       "std                3927.957169            0.364021          8.801282   \n",
       "min                   1.000000            1.000000          1.000000   \n",
       "25%                3029.250000            3.000000          8.000000   \n",
       "50%                6076.500000            3.000000         16.000000   \n",
       "75%               10078.750000            3.000000         23.000000   \n",
       "max               13147.000000            3.000000         31.000000   \n",
       "\n",
       "       Month_of_Collision  Hour_of_Collision_(24_hour)  Carriageway_Type  \\\n",
       "count         8562.000000                  8307.000000       8562.000000   \n",
       "mean             6.641556                    13.669556         12.223896   \n",
       "std              3.525814                     5.075447          2.706829   \n",
       "min              1.000000                     0.000000          1.000000   \n",
       "25%              4.000000                    10.000000         13.000000   \n",
       "50%              7.000000                    14.000000         13.000000   \n",
       "75%             10.000000                    17.000000         13.000000   \n",
       "max             12.000000                    23.000000         14.000000   \n",
       "\n",
       "       Speed_Limit  Junction_Detail  Junction_Control  \\\n",
       "count  8562.000000      8317.000000       8286.000000   \n",
       "mean     42.463794         6.381027          4.144581   \n",
       "std      14.530785         5.017856          2.866551   \n",
       "min      10.000000         1.000000          1.000000   \n",
       "25%      30.000000         1.000000          1.000000   \n",
       "50%      30.000000         6.000000          4.000000   \n",
       "75%      60.000000        12.000000          7.000000   \n",
       "max      70.000000        12.000000          7.000000   \n",
       "\n",
       "       Pedestrian_Crossing__Human_Control  \\\n",
       "count                          8326.000000   \n",
       "mean                              1.008167   \n",
       "std                               0.118775   \n",
       "min                               1.000000   \n",
       "25%                               1.000000   \n",
       "50%                               1.000000   \n",
       "75%                               1.000000   \n",
       "max                               3.000000   \n",
       "\n",
       "       Pedestrian_Crossing__Physical_Control  Light_Conditions  \\\n",
       "count                             8294.000000       8562.000000   \n",
       "mean                                 2.216301          3.236744   \n",
       "std                                  3.237456          2.070228   \n",
       "min                                  1.000000          1.000000   \n",
       "25%                                  1.000000          1.000000   \n",
       "50%                                  1.000000          3.000000   \n",
       "75%                                  1.000000          5.000000   \n",
       "max                                 12.000000          7.000000   \n",
       "\n",
       "       Weather_Conditions  Road_Surface_Conditions  Special_Conditions_at_Site  \n",
       "count         8562.000000              8321.000000                 8331.000000  \n",
       "mean             4.743635                 1.657133                    1.060737  \n",
       "std              3.746747                 1.453808                    0.495025  \n",
       "min              1.000000                 1.000000                    1.000000  \n",
       "25%              1.000000                 1.000000                    1.000000  \n",
       "50%              3.000000                 1.000000                    1.000000  \n",
       "75%              9.000000                 2.000000                    1.000000  \n",
       "max             10.000000                10.000000                    6.000000  "
      ]
     },
     "execution_count": 5,
     "metadata": {},
     "output_type": "execute_result"
    }
   ],
   "source": [
    "df.describe()"
   ]
  },
  {
   "cell_type": "markdown",
   "metadata": {},
   "source": [
    "### Count missing values and nulls\n",
    "\n",
    "Lets see how much data is missing"
   ]
  },
  {
   "cell_type": "code",
   "execution_count": 6,
   "metadata": {},
   "outputs": [
    {
     "name": "stdout",
     "output_type": "stream",
     "text": [
      "<class 'pandas.core.frame.DataFrame'>\n",
      "RangeIndex: 8562 entries, 0 to 8561\n",
      "Data columns (total 17 columns):\n",
      "Collision_Reference_No.                   8562 non-null int64\n",
      "Policing_Area                             8317 non-null object\n",
      "Collision_Severity                        8562 non-null int64\n",
      "Weekday_of_Collision                      8562 non-null object\n",
      "Day_of_Collision                          8562 non-null int64\n",
      "Month_of_Collision                        8562 non-null int64\n",
      "Hour_of_Collision_(24_hour)               8307 non-null float64\n",
      "Carriageway_Type                          8562 non-null int64\n",
      "Speed_Limit                               8562 non-null int64\n",
      "Junction_Detail                           8317 non-null float64\n",
      "Junction_Control                          8286 non-null float64\n",
      "Pedestrian_Crossing__Human_Control       8326 non-null float64\n",
      "Pedestrian_Crossing__Physical_Control    8294 non-null float64\n",
      "Light_Conditions                          8562 non-null int64\n",
      "Weather_Conditions                        8562 non-null int64\n",
      "Road_Surface_Conditions                   8321 non-null float64\n",
      "Special_Conditions_at_Site                8331 non-null float64\n",
      "dtypes: float64(7), int64(8), object(2)\n",
      "memory usage: 1.1+ MB\n"
     ]
    }
   ],
   "source": [
    "# No. of rows for each column\n",
    "df.info()"
   ]
  },
  {
   "cell_type": "markdown",
   "metadata": {},
   "source": [
    "### Imputation filling NAs\n",
    "\n",
    "If we choose to ignore the na's blindly we are loosing 20% of the data, which is not a very good way to proceed.\n",
    "Instead lets try to inpute continous columns with a strategy.\n",
    "\n",
    "**Strategy**\n",
    "* For Continous variables we will replace the NA values with **MEAN**\n",
    "* For Categorical/Ordinal variables we will replace the NA values with **MODE**\n"
   ]
  },
  {
   "cell_type": "code",
   "execution_count": 7,
   "metadata": {
    "collapsed": true
   },
   "outputs": [],
   "source": [
    "df.Speed_Limit = df.Speed_Limit.fillna(df.Speed_Limit.mean())"
   ]
  },
  {
   "cell_type": "markdown",
   "metadata": {},
   "source": [
    "#### Since rest all features/variables are categorical we will replace the NA's in each column with respective columns MODE values"
   ]
  },
  {
   "cell_type": "code",
   "execution_count": 8,
   "metadata": {
    "collapsed": true
   },
   "outputs": [],
   "source": [
    "df = df.fillna(df.mode().iloc[0])"
   ]
  },
  {
   "cell_type": "markdown",
   "metadata": {},
   "source": [
    "### Dtypes conversion\n",
    "\n",
    "There are two columns with dtypes as objects [Strings in PANDAS], we will have to convert them to some numerical form before we could impute those. Hence we will use LabelEncoder class to encode the columns."
   ]
  },
  {
   "cell_type": "code",
   "execution_count": 9,
   "metadata": {
    "collapsed": true
   },
   "outputs": [],
   "source": [
    "le_PA = preprocessing.LabelEncoder()\n",
    "le_WD = preprocessing.LabelEncoder()\n",
    "\n",
    "le_PA.fit(list(df.Policing_Area.unique()))\n",
    "# le_WD.fit(list(df.Weekday_of_Collision.unique()))\n",
    "le_WD.fit([\"MON\", \"TUE\", \"WED\", \"THU\", \"FRI\", \"SAT\", \"SUN\"])\n",
    "\n",
    "df.Policing_Area = le_PA.transform(df.Policing_Area)\n",
    "df.Weekday_of_Collision = le_WD.transform(df.Weekday_of_Collision)"
   ]
  },
  {
   "cell_type": "markdown",
   "metadata": {},
   "source": [
    "#### Visualization of data"
   ]
  },
  {
   "cell_type": "markdown",
   "metadata": {},
   "source": [
    "## Visualizations\n",
    "\n",
    "Lets visualize some data.\n",
    "\n",
    "Start by checking the class distribution, it turns out class distribution is pretty uneven.\n",
    "\n",
    "Bullet Points:\n",
    "* Around 7K points for 1 class.\n",
    "* Other two classes do not even come close to the most frequent class."
   ]
  },
  {
   "cell_type": "code",
   "execution_count": 10,
   "metadata": {},
   "outputs": [
    {
     "data": {
      "text/plain": [
       "<matplotlib.axes._subplots.AxesSubplot at 0x10d92b6a0>"
      ]
     },
     "execution_count": 10,
     "metadata": {},
     "output_type": "execute_result"
    },
    {
     "data": {
      "image/png": "[encoded data removed]",
      "text/plain": [
       "<matplotlib.figure.Figure at 0x118aa6be0>"
      ]
     },
     "metadata": {},
     "output_type": "display_data"
    }
   ],
   "source": [
    "sns.countplot(x=df.Collision_Severity)"
   ]
  },
  {
   "cell_type": "markdown",
   "metadata": {},
   "source": [
    "**Insight:**\n",
    "We observe that the data is not correlated, so we can ignore the dimensionality reduction step in the process.\n",
    "Since all the data available will be usefull to use for model building.\n",
    "\n",
    "**Note**: The column Collision_Reference_No. is not considered as it has unique values and it should just be a serial number of some sort."
   ]
  },
  {
   "cell_type": "code",
   "execution_count": 11,
   "metadata": {
    "scrolled": false
   },
   "outputs": [
    {
     "data": {
      "text/plain": [
       "<matplotlib.axes._subplots.AxesSubplot at 0x118a67978>"
      ]
     },
     "execution_count": 11,
     "metadata": {},
     "output_type": "execute_result"
    },
    {
     "data": {
      "image/png": "[encoded data removed]",
      "text/plain": [
       "<matplotlib.figure.Figure at 0x118a7e1d0>"
      ]
     },
     "metadata": {},
     "output_type": "display_data"
    }
   ],
   "source": [
    "# Correlation plot\n",
    "sns.heatmap(df[df.columns[1:]].corr())"
   ]
  },
  {
   "cell_type": "markdown",
   "metadata": {},
   "source": [
    "**Insight:**\n",
    "From the grouped frequency plot below we observe that Most of the accidents happen during the weekdays, and the number of accidents increase as the week progresses."
   ]
  },
  {
   "cell_type": "code",
   "execution_count": 12,
   "metadata": {},
   "outputs": [
    {
     "data": {
      "text/plain": [
       "<matplotlib.axes._subplots.AxesSubplot at 0x11c30c7f0>"
      ]
     },
     "execution_count": 12,
     "metadata": {},
     "output_type": "execute_result"
    },
    {
     "data": {
      "image/png": "[encoded data removed]",
      "text/plain": [
       "<matplotlib.figure.Figure at 0x11c29ed68>"
      ]
     },
     "metadata": {},
     "output_type": "display_data"
    }
   ],
   "source": [
    "sns.countplot(x=le_WD.inverse_transform(df.Weekday_of_Collision), hue=df.Collision_Severity, order=[\"SAT\", \"SUN\", \"MON\", \"TUE\", \"WED\", \"THU\", \"FRI\"])"
   ]
  },
  {
   "cell_type": "code",
   "execution_count": 13,
   "metadata": {},
   "outputs": [
    {
     "data": {
      "text/plain": [
       "<matplotlib.axes._subplots.AxesSubplot at 0x11c2fe438>"
      ]
     },
     "execution_count": 13,
     "metadata": {},
     "output_type": "execute_result"
    },
    {
     "data": {
      "image/png": "[encoded data removed]",
      "text/plain": [
       "<matplotlib.figure.Figure at 0x11c2f68d0>"
      ]
     },
     "metadata": {},
     "output_type": "display_data"
    }
   ],
   "source": [
    "sns.countplot(x=df.Weather_Conditions, hue=df.Collision_Severity)"
   ]
  },
  {
   "cell_type": "markdown",
   "metadata": {},
   "source": [
    "**Insight:**\n",
    "From the above plot we can see that weather conditions 1,2,3, 9 and 10 are contributing to severe accidents.\n",
    "Lets see what those are:\n",
    "* 1: Fine without High Winds\n",
    "* 2: Raining without High Winds\n",
    "* 3: Snowing without High Winds\n",
    "* 9: Other\n",
    "* 10: Unknown"
   ]
  },
  {
   "cell_type": "code",
   "execution_count": 14,
   "metadata": {},
   "outputs": [
    {
     "data": {
      "text/plain": [
       "<matplotlib.axes._subplots.AxesSubplot at 0x11c463550>"
      ]
     },
     "execution_count": 14,
     "metadata": {},
     "output_type": "execute_result"
    },
    {
     "data": {
      "image/png": "[encoded data removed]",
      "text/plain": [
       "<matplotlib.figure.Figure at 0x11c5156d8>"
      ]
     },
     "metadata": {},
     "output_type": "display_data"
    }
   ],
   "source": [
    "sns.heatmap(df.pivot_table(index=\"Month_of_Collision\", columns=\"Day_of_Collision\", values=\"Collision_Severity\", aggfunc='count'))"
   ]
  },
  {
   "cell_type": "code",
   "execution_count": 15,
   "metadata": {},
   "outputs": [
    {
     "data": {
      "text/plain": [
       "<matplotlib.axes._subplots.AxesSubplot at 0x11c515cc0>"
      ]
     },
     "execution_count": 15,
     "metadata": {},
     "output_type": "execute_result"
    },
    {
     "data": {
      "image/png": "[encoded data removed]",
      "text/plain": [
       "<matplotlib.figure.Figure at 0x118a8dbe0>"
      ]
     },
     "metadata": {},
     "output_type": "display_data"
    }
   ],
   "source": [
    "sns.countplot(x=df.Road_Surface_Conditions, hue=df.Collision_Severity)"
   ]
  },
  {
   "cell_type": "markdown",
   "metadata": {},
   "source": [
    "**Insight:**\n",
    "Interestingly there is a high chance of server accident if the road conditions are 1 and 2, Since majority of accidents are occured on those two accounts. Lets see what those conditions are:\n",
    "* 1: Dry\n",
    "* 2: Wet / Damp"
   ]
  },
  {
   "cell_type": "code",
   "execution_count": 16,
   "metadata": {},
   "outputs": [
    {
     "data": {
      "text/plain": [
       "<matplotlib.axes._subplots.AxesSubplot at 0x11c696ef0>"
      ]
     },
     "execution_count": 16,
     "metadata": {},
     "output_type": "execute_result"
    },
    {
     "data": {
      "image/png": "[encoded data removed]",
      "text/plain": [
       "<matplotlib.figure.Figure at 0x11c5155c0>"
      ]
     },
     "metadata": {},
     "output_type": "display_data"
    }
   ],
   "source": [
    "sns.countplot(x=df.Carriageway_Type, hue=df.Collision_Severity)"
   ]
  },
  {
   "cell_type": "markdown",
   "metadata": {},
   "source": [
    "**Insight:**\n",
    "Most of the accidents happen on single carriageway.\n"
   ]
  },
  {
   "cell_type": "code",
   "execution_count": 17,
   "metadata": {},
   "outputs": [
    {
     "data": {
      "text/plain": [
       "<matplotlib.axes._subplots.AxesSubplot at 0x11c8f1828>"
      ]
     },
     "execution_count": 17,
     "metadata": {},
     "output_type": "execute_result"
    },
    {
     "data": {
      "image/png": "[encoded data removed]",
      "text/plain": [
       "<matplotlib.figure.Figure at 0x11c46f470>"
      ]
     },
     "metadata": {},
     "output_type": "display_data"
    }
   ],
   "source": [
    "sns.lvplot(y=df.Light_Conditions, x=df.Carriageway_Type, hue=df.Collision_Severity)"
   ]
  },
  {
   "cell_type": "markdown",
   "metadata": {},
   "source": [
    "**Expectation:**\n",
    "Expectation was that most of the accidents would happen on narrow roads(13) which are poorly lit (6,7).\n",
    "\n",
    "**Inference:**\n",
    "Looking at the plot it appears that most of the accidentsly are caused under light conditions (3,4,5)."
   ]
  },
  {
   "cell_type": "code",
   "execution_count": null,
   "metadata": {
    "collapsed": true
   },
   "outputs": [],
   "source": []
  }
 ],
 "metadata": {
  "kernelspec": {
   "display_name": "Python 3",
   "language": "python",
   "name": "python3"
  },
  "language_info": {
   "codemirror_mode": {
    "name": "ipython",
    "version": 3
   },
   "file_extension": ".py",
   "mimetype": "text/x-python",
   "name": "python",
   "nbconvert_exporter": "python",
   "pygments_lexer": "ipython3",
   "version": "3.6.1"
  }
 },
 "nbformat": 4,
 "nbformat_minor": 2
}
